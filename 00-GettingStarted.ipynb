{
 "cells": [
  {
   "cell_type": "code",
   "execution_count": null,
   "metadata": {
    "dotnet_interactive": {
     "language": "csharp"
    },
    "polyglot_notebook": {
     "kernelName": "csharp"
    },
    "vscode": {
     "languageId": "polyglot-notebook"
    }
   },
   "outputs": [],
   "source": [
    "#r \"nuget: Microsoft.SemanticKernel, 1.0.1\"\n",
    "#r \"nuget: Microsoft.KernelMemory.Core, 0.26.240121.1\"\n",
    "#r \"nuget: dotenv.net, 3.1.3\"\n"
   ]
  },
  {
   "cell_type": "code",
   "execution_count": 8,
   "metadata": {
    "dotnet_interactive": {
     "language": "csharp"
    },
    "polyglot_notebook": {
     "kernelName": "csharp"
    },
    "vscode": {
     "languageId": "polyglot-notebook"
    }
   },
   "outputs": [],
   "source": [
    "using Microsoft.SemanticKernel;\n",
    "using Microsoft.KernelMemory;"
   ]
  },
  {
   "cell_type": "code",
   "execution_count": null,
   "metadata": {
    "dotnet_interactive": {
     "language": "csharp"
    },
    "polyglot_notebook": {
     "kernelName": "csharp"
    },
    "vscode": {
     "languageId": "polyglot-notebook"
    }
   },
   "outputs": [],
   "source": [
    "dotenv.net.DotEnv.Load();\n",
    "var env = dotenv.net.DotEnv.Read();"
   ]
  },
  {
   "cell_type": "code",
   "execution_count": 3,
   "metadata": {
    "dotnet_interactive": {
     "language": "csharp"
    },
    "polyglot_notebook": {
     "kernelName": "csharp"
    },
    "vscode": {
     "languageId": "polyglot-notebook"
    }
   },
   "outputs": [
    {
     "ename": "Error",
     "evalue": "(3,26): error CS0103: The name 'env' does not exist in the current context\r\n(4,30): error CS0103: The name 'env' does not exist in the current context\r\n(5,28): error CS0103: The name 'env' does not exist in the current context\r\n(11,26): error CS0103: The name 'env' does not exist in the current context\r\n(12,30): error CS0103: The name 'env' does not exist in the current context\r\n(13,28): error CS0103: The name 'env' does not exist in the current context\r\n(19,35): error CS0103: The name 'env' does not exist in the current context\r\n(19,52): error CS0103: The name 'env' does not exist in the current context\r\n(19,68): error CS0103: The name 'env' does not exist in the current context",
     "output_type": "error",
     "traceback": [
      "(3,26): error CS0103: The name 'env' does not exist in the current context\r\n",
      "(4,30): error CS0103: The name 'env' does not exist in the current context\r\n",
      "(5,28): error CS0103: The name 'env' does not exist in the current context\r\n",
      "(11,26): error CS0103: The name 'env' does not exist in the current context\r\n",
      "(12,30): error CS0103: The name 'env' does not exist in the current context\r\n",
      "(13,28): error CS0103: The name 'env' does not exist in the current context\r\n",
      "(19,35): error CS0103: The name 'env' does not exist in the current context\r\n",
      "(19,52): error CS0103: The name 'env' does not exist in the current context\r\n",
      "(19,68): error CS0103: The name 'env' does not exist in the current context"
     ]
    }
   ],
   "source": [
    "var embeddingAzureConf = new AzureOpenAIConfig()\n",
    "            {\n",
    "                APIKey = env[\"OPENAI_API_KEY\"],\n",
    "                Deployment = env[\"EMBEDDING_NAME\"],\n",
    "                Endpoint = env[\"ENDPOINT\"],\n",
    "                APIType = AzureOpenAIConfig.APITypes.EmbeddingGeneration,\n",
    "                Auth = AzureOpenAIConfig.AuthTypes.APIKey\n",
    "            };\n",
    "var textAzureConf = new AzureOpenAIConfig()\n",
    "            {\n",
    "                APIKey = env[\"OPENAI_API_KEY\"],\n",
    "                Deployment = env[\"TEXT_NAME\"],\n",
    "                Endpoint = env[\"ENDPOINT\"],\n",
    "                APIType = AzureOpenAIConfig.APITypes.ChatCompletion,\n",
    "                Auth = AzureOpenAIConfig.AuthTypes.APIKey\n",
    "            };\n",
    "            \n",
    "var kernel = Kernel.CreateBuilder()\n",
    "    .AddAzureOpenAIChatCompletion(env[\"TEXT_NAME\"],env[\"ENDPOINT\"],env[\"OPENAI_API_KEY\"])\n",
    "    .Build();\n",
    "\n",
    "Console.WriteLine(\"Semantic Kernel ready.\");\n",
    "var kernelMemory = new KernelMemoryBuilder()\n",
    "                .WithAzureOpenAITextEmbeddingGeneration(embeddingAzureConf)\n",
    "                .WithAzureOpenAITextGeneration(textAzureConf)\n",
    "                .WithSimpleVectorDb()\n",
    "                .Build();\n"
   ]
  },
  {
   "cell_type": "code",
   "execution_count": 43,
   "metadata": {
    "dotnet_interactive": {
     "language": "csharp"
    },
    "polyglot_notebook": {
     "kernelName": "csharp"
    },
    "vscode": {
     "languageId": "polyglot-notebook"
    }
   },
   "outputs": [
    {
     "name": "stdout",
     "output_type": "stream",
     "text": [
      "DevOps is the combination of Development(Dev) and Operations(Ops) that aims to continually provide value to customers through the union of people, process, and technology. It is a concept created by Microsoft to achieve the core objectives of this definition.\r\n"
     ]
    }
   ],
   "source": [
    "var result = await kernelMemory.AskAsync(\"What is DevOps\");\n",
    "\n",
    "Console.WriteLine(result.Result);"
   ]
  },
  {
   "cell_type": "code",
   "execution_count": 4,
   "metadata": {
    "dotnet_interactive": {
     "language": "csharp"
    },
    "polyglot_notebook": {
     "kernelName": "csharp"
    },
    "vscode": {
     "languageId": "polyglot-notebook"
    }
   },
   "outputs": [
    {
     "ename": "Error",
     "evalue": "(1,20): error CS0103: The name 'kernel' does not exist in the current context\r\n(2,9): error CS0246: The type or namespace name 'MemoryPlugin' could not be found (are you missing a using directive or an assembly reference?)\r\n(2,22): error CS0103: The name 'kernelMemory' does not exist in the current context",
     "output_type": "error",
     "traceback": [
      "(1,20): error CS0103: The name 'kernel' does not exist in the current context\r\n",
      "(2,9): error CS0246: The type or namespace name 'MemoryPlugin' could not be found (are you missing a using directive or an assembly reference?)\r\n",
      "(2,22): error CS0103: The name 'kernelMemory' does not exist in the current context"
     ]
    }
   ],
   "source": [
    "var memoryPlugin = kernel.ImportPluginFromObject(\n",
    "    new MemoryPlugin(kernelMemory, waitForIngestionToComplete: true),\n",
    "    \"memory\");\n"
   ]
  },
  {
   "cell_type": "code",
   "execution_count": 45,
   "metadata": {
    "dotnet_interactive": {
     "language": "csharp"
    },
    "polyglot_notebook": {
     "kernelName": "csharp"
    },
    "vscode": {
     "languageId": "polyglot-notebook"
    }
   },
   "outputs": [],
   "source": [
    "// Save a PDF file using the plugin\n",
    "var context = new KernelArguments\n",
    "{\n",
    "    [MemoryPlugin.FilePathParam] = \"DevOps.pdf\",\n",
    "    [MemoryPlugin.DocumentIdParam] = \"DEVOPS\"\n",
    "};\n",
    "await memoryPlugin[\"SaveFile\"].InvokeAsync(kernel, context);"
   ]
  },
  {
   "cell_type": "code",
   "execution_count": 5,
   "metadata": {
    "dotnet_interactive": {
     "language": "csharp"
    },
    "polyglot_notebook": {
     "kernelName": "csharp"
    },
    "vscode": {
     "languageId": "polyglot-notebook"
    }
   },
   "outputs": [
    {
     "ename": "Error",
     "evalue": "(10,18): error CS0103: The name 'kernel' does not exist in the current context",
     "output_type": "error",
     "traceback": [
      "(10,18): error CS0103: The name 'kernel' does not exist in the current context"
     ]
    }
   ],
   "source": [
    "var skPrompt = \"\"\"\n",
    "Question to Memory: {{$input}}\n",
    "\n",
    "Answer from Memory: {{memory.ask $input}}\n",
    "\n",
    "If the answer is empty say 'I don't know' otherwise reply with a preview of the answer,\n",
    "truncated to 15 words. Prefix with one emoji relevant to the content.\n",
    "\"\"\";\n",
    "\n",
    "var myFunction = kernel.CreateFunctionFromPrompt(skPrompt);\n",
    "\n",
    "Console.WriteLine(\"Semantic Function ready.\");"
   ]
  },
  {
   "cell_type": "code",
   "execution_count": 6,
   "metadata": {
    "dotnet_interactive": {
     "language": "csharp"
    },
    "polyglot_notebook": {
     "kernelName": "csharp"
    },
    "vscode": {
     "languageId": "polyglot-notebook"
    }
   },
   "outputs": [
    {
     "ename": "Error",
     "evalue": "(1,20): error CS0103: The name 'myFunction' does not exist in the current context\r\n(1,43): error CS0103: The name 'kernel' does not exist in the current context",
     "output_type": "error",
     "traceback": [
      "(1,20): error CS0103: The name 'myFunction' does not exist in the current context\r\n",
      "(1,43): error CS0103: The name 'kernel' does not exist in the current context"
     ]
    }
   ],
   "source": [
    "var answer = await myFunction.InvokeAsync(kernel,\n",
    "    \"what is devops ?\");\n",
    "\n",
    "Console.WriteLine(answer);"
   ]
  }
 ],
 "metadata": {
  "kernelspec": {
   "display_name": "Python 3",
   "language": "python",
   "name": "python3"
  },
  "language_info": {
   "name": "python",
   "version": "3.12.1"
  }
 },
 "nbformat": 4,
 "nbformat_minor": 2
}
